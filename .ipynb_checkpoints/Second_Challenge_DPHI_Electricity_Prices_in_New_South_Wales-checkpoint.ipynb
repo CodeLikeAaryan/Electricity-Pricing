{
  "cells": [
    {
      "cell_type": "markdown",
      "metadata": {
        "id": "view-in-github",
        "colab_type": "text"
      },
      "source": [
        "<a href=\"https://colab.research.google.com/github/Belac44/Electricity-Prices-Prediction-in-New-South-Wales/blob/main/Second_Challenge_DPHI_Electricity_Prices_in_New_South_Wales.ipynb\" target=\"_parent\"><img src=\"https://colab.research.google.com/assets/colab-badge.svg\" alt=\"Open In Colab\"/></a>"
      ]
    },
    {
      "cell_type": "code",
      "execution_count": 1,
      "id": "effc3d80",
      "metadata": {
        "id": "effc3d80"
      },
      "outputs": [],
      "source": [
        "import pandas as pd\n",
        "import numpy as np\n",
        "\n",
        "import matplotlib.pyplot as plt\n",
        "import seaborn as sns\n",
        "\n",
        "import warnings\n",
        "warnings.filterwarnings(\"ignore\")"
      ]
    },
    {
      "cell_type": "code",
      "execution_count": 2,
      "id": "dee48606",
      "metadata": {
        "colab": {
          "base_uri": "https://localhost:8080/"
        },
        "id": "dee48606",
        "outputId": "4a6f5b51-ddcc-49e2-8daa-566ef5070eef"
      },
      "outputs": [
        {
          "output_type": "execute_result",
          "data": {
            "text/plain": [
              "(36249, 9)"
            ]
          },
          "metadata": {},
          "execution_count": 2
        }
      ],
      "source": [
        "train = pd.read_csv(\"train.csv\")\n",
        "train.shape"
      ]
    },
    {
      "cell_type": "code",
      "execution_count": 3,
      "id": "c5ef822f",
      "metadata": {
        "colab": {
          "base_uri": "https://localhost:8080/",
          "height": 206
        },
        "id": "c5ef822f",
        "outputId": "1c12a006-3882-4fbb-dd44-723331f8ce3f"
      },
      "outputs": [
        {
          "output_type": "execute_result",
          "data": {
            "text/html": [
              "<div>\n",
              "<style scoped>\n",
              "    .dataframe tbody tr th:only-of-type {\n",
              "        vertical-align: middle;\n",
              "    }\n",
              "\n",
              "    .dataframe tbody tr th {\n",
              "        vertical-align: top;\n",
              "    }\n",
              "\n",
              "    .dataframe thead th {\n",
              "        text-align: right;\n",
              "    }\n",
              "</style>\n",
              "<table border=\"1\" class=\"dataframe\">\n",
              "  <thead>\n",
              "    <tr style=\"text-align: right;\">\n",
              "      <th></th>\n",
              "      <th>date</th>\n",
              "      <th>day</th>\n",
              "      <th>period</th>\n",
              "      <th>nswprice</th>\n",
              "      <th>nswdemand</th>\n",
              "      <th>vicprice</th>\n",
              "      <th>vicdemand</th>\n",
              "      <th>transfer</th>\n",
              "      <th>class</th>\n",
              "    </tr>\n",
              "  </thead>\n",
              "  <tbody>\n",
              "    <tr>\n",
              "      <th>0</th>\n",
              "      <td>0.469625</td>\n",
              "      <td>6</td>\n",
              "      <td>0.617021</td>\n",
              "      <td>0.054822</td>\n",
              "      <td>0.497769</td>\n",
              "      <td>0.003727</td>\n",
              "      <td>0.532626</td>\n",
              "      <td>0.245175</td>\n",
              "      <td>1</td>\n",
              "    </tr>\n",
              "    <tr>\n",
              "      <th>1</th>\n",
              "      <td>0.009867</td>\n",
              "      <td>2</td>\n",
              "      <td>0.787234</td>\n",
              "      <td>0.041732</td>\n",
              "      <td>0.751860</td>\n",
              "      <td>0.003467</td>\n",
              "      <td>0.422915</td>\n",
              "      <td>0.414912</td>\n",
              "      <td>0</td>\n",
              "    </tr>\n",
              "    <tr>\n",
              "      <th>2</th>\n",
              "      <td>0.877129</td>\n",
              "      <td>3</td>\n",
              "      <td>0.829787</td>\n",
              "      <td>0.035097</td>\n",
              "      <td>0.530943</td>\n",
              "      <td>0.002441</td>\n",
              "      <td>0.506732</td>\n",
              "      <td>0.282018</td>\n",
              "      <td>0</td>\n",
              "    </tr>\n",
              "    <tr>\n",
              "      <th>3</th>\n",
              "      <td>0.469891</td>\n",
              "      <td>5</td>\n",
              "      <td>0.702128</td>\n",
              "      <td>0.069563</td>\n",
              "      <td>0.741297</td>\n",
              "      <td>0.004817</td>\n",
              "      <td>0.581564</td>\n",
              "      <td>0.353070</td>\n",
              "      <td>0</td>\n",
              "    </tr>\n",
              "    <tr>\n",
              "      <th>4</th>\n",
              "      <td>0.893677</td>\n",
              "      <td>1</td>\n",
              "      <td>0.148936</td>\n",
              "      <td>0.031374</td>\n",
              "      <td>0.200684</td>\n",
              "      <td>0.001909</td>\n",
              "      <td>0.315898</td>\n",
              "      <td>0.779825</td>\n",
              "      <td>0</td>\n",
              "    </tr>\n",
              "  </tbody>\n",
              "</table>\n",
              "</div>"
            ],
            "text/plain": [
              "       date  day    period  nswprice  nswdemand  vicprice  vicdemand  \\\n",
              "0  0.469625    6  0.617021  0.054822   0.497769  0.003727   0.532626   \n",
              "1  0.009867    2  0.787234  0.041732   0.751860  0.003467   0.422915   \n",
              "2  0.877129    3  0.829787  0.035097   0.530943  0.002441   0.506732   \n",
              "3  0.469891    5  0.702128  0.069563   0.741297  0.004817   0.581564   \n",
              "4  0.893677    1  0.148936  0.031374   0.200684  0.001909   0.315898   \n",
              "\n",
              "   transfer  class  \n",
              "0  0.245175      1  \n",
              "1  0.414912      0  \n",
              "2  0.282018      0  \n",
              "3  0.353070      0  \n",
              "4  0.779825      0  "
            ]
          },
          "metadata": {},
          "execution_count": 3
        }
      ],
      "source": [
        "train.head()"
      ]
    },
    {
      "cell_type": "code",
      "execution_count": 4,
      "id": "0f438d91",
      "metadata": {
        "colab": {
          "base_uri": "https://localhost:8080/"
        },
        "id": "0f438d91",
        "outputId": "9d7f4936-edea-4140-c100-c3b4dd2250ff"
      },
      "outputs": [
        {
          "output_type": "stream",
          "name": "stdout",
          "text": [
            "<class 'pandas.core.frame.DataFrame'>\n",
            "RangeIndex: 36249 entries, 0 to 36248\n",
            "Data columns (total 9 columns):\n",
            " #   Column     Non-Null Count  Dtype  \n",
            "---  ------     --------------  -----  \n",
            " 0   date       36249 non-null  float64\n",
            " 1   day        36249 non-null  int64  \n",
            " 2   period     36249 non-null  float64\n",
            " 3   nswprice   36249 non-null  float64\n",
            " 4   nswdemand  36249 non-null  float64\n",
            " 5   vicprice   36249 non-null  float64\n",
            " 6   vicdemand  36249 non-null  float64\n",
            " 7   transfer   36249 non-null  float64\n",
            " 8   class      36249 non-null  int64  \n",
            "dtypes: float64(7), int64(2)\n",
            "memory usage: 2.5 MB\n"
          ]
        }
      ],
      "source": [
        "train.info()"
      ]
    },
    {
      "cell_type": "code",
      "execution_count": 5,
      "id": "5e184061",
      "metadata": {
        "colab": {
          "base_uri": "https://localhost:8080/",
          "height": 320
        },
        "id": "5e184061",
        "outputId": "5f04156e-e59a-4f79-c9ca-b304c10ac7f6"
      },
      "outputs": [
        {
          "output_type": "execute_result",
          "data": {
            "text/html": [
              "<div>\n",
              "<style scoped>\n",
              "    .dataframe tbody tr th:only-of-type {\n",
              "        vertical-align: middle;\n",
              "    }\n",
              "\n",
              "    .dataframe tbody tr th {\n",
              "        vertical-align: top;\n",
              "    }\n",
              "\n",
              "    .dataframe thead th {\n",
              "        text-align: right;\n",
              "    }\n",
              "</style>\n",
              "<table border=\"1\" class=\"dataframe\">\n",
              "  <thead>\n",
              "    <tr style=\"text-align: right;\">\n",
              "      <th></th>\n",
              "      <th>date</th>\n",
              "      <th>day</th>\n",
              "      <th>period</th>\n",
              "      <th>nswprice</th>\n",
              "      <th>nswdemand</th>\n",
              "      <th>vicprice</th>\n",
              "      <th>vicdemand</th>\n",
              "      <th>transfer</th>\n",
              "      <th>class</th>\n",
              "    </tr>\n",
              "  </thead>\n",
              "  <tbody>\n",
              "    <tr>\n",
              "      <th>count</th>\n",
              "      <td>36249.000000</td>\n",
              "      <td>36249.000000</td>\n",
              "      <td>36249.000000</td>\n",
              "      <td>36249.000000</td>\n",
              "      <td>36249.000000</td>\n",
              "      <td>36249.000000</td>\n",
              "      <td>36249.000000</td>\n",
              "      <td>36249.000000</td>\n",
              "      <td>36249.000000</td>\n",
              "    </tr>\n",
              "    <tr>\n",
              "      <th>mean</th>\n",
              "      <td>0.498926</td>\n",
              "      <td>4.002455</td>\n",
              "      <td>0.500055</td>\n",
              "      <td>0.057858</td>\n",
              "      <td>0.425680</td>\n",
              "      <td>0.003492</td>\n",
              "      <td>0.422827</td>\n",
              "      <td>0.500508</td>\n",
              "      <td>0.424536</td>\n",
              "    </tr>\n",
              "    <tr>\n",
              "      <th>std</th>\n",
              "      <td>0.339855</td>\n",
              "      <td>1.999081</td>\n",
              "      <td>0.294537</td>\n",
              "      <td>0.039475</td>\n",
              "      <td>0.163622</td>\n",
              "      <td>0.011049</td>\n",
              "      <td>0.121357</td>\n",
              "      <td>0.153032</td>\n",
              "      <td>0.494279</td>\n",
              "    </tr>\n",
              "    <tr>\n",
              "      <th>min</th>\n",
              "      <td>0.000000</td>\n",
              "      <td>1.000000</td>\n",
              "      <td>0.000000</td>\n",
              "      <td>0.000000</td>\n",
              "      <td>0.000000</td>\n",
              "      <td>0.000000</td>\n",
              "      <td>0.000000</td>\n",
              "      <td>0.000000</td>\n",
              "      <td>0.000000</td>\n",
              "    </tr>\n",
              "    <tr>\n",
              "      <th>25%</th>\n",
              "      <td>0.031945</td>\n",
              "      <td>2.000000</td>\n",
              "      <td>0.255319</td>\n",
              "      <td>0.035097</td>\n",
              "      <td>0.309134</td>\n",
              "      <td>0.002277</td>\n",
              "      <td>0.371569</td>\n",
              "      <td>0.414912</td>\n",
              "      <td>0.000000</td>\n",
              "    </tr>\n",
              "    <tr>\n",
              "      <th>50%</th>\n",
              "      <td>0.456351</td>\n",
              "      <td>4.000000</td>\n",
              "      <td>0.510638</td>\n",
              "      <td>0.048607</td>\n",
              "      <td>0.443916</td>\n",
              "      <td>0.003467</td>\n",
              "      <td>0.422915</td>\n",
              "      <td>0.414912</td>\n",
              "      <td>0.000000</td>\n",
              "    </tr>\n",
              "    <tr>\n",
              "      <th>75%</th>\n",
              "      <td>0.880536</td>\n",
              "      <td>6.000000</td>\n",
              "      <td>0.744681</td>\n",
              "      <td>0.074517</td>\n",
              "      <td>0.536150</td>\n",
              "      <td>0.003467</td>\n",
              "      <td>0.469705</td>\n",
              "      <td>0.605702</td>\n",
              "      <td>1.000000</td>\n",
              "    </tr>\n",
              "    <tr>\n",
              "      <th>max</th>\n",
              "      <td>1.000000</td>\n",
              "      <td>7.000000</td>\n",
              "      <td>1.000000</td>\n",
              "      <td>1.000000</td>\n",
              "      <td>0.980809</td>\n",
              "      <td>1.000000</td>\n",
              "      <td>1.000000</td>\n",
              "      <td>1.000000</td>\n",
              "      <td>1.000000</td>\n",
              "    </tr>\n",
              "  </tbody>\n",
              "</table>\n",
              "</div>"
            ],
            "text/plain": [
              "               date           day        period      nswprice     nswdemand  \\\n",
              "count  36249.000000  36249.000000  36249.000000  36249.000000  36249.000000   \n",
              "mean       0.498926      4.002455      0.500055      0.057858      0.425680   \n",
              "std        0.339855      1.999081      0.294537      0.039475      0.163622   \n",
              "min        0.000000      1.000000      0.000000      0.000000      0.000000   \n",
              "25%        0.031945      2.000000      0.255319      0.035097      0.309134   \n",
              "50%        0.456351      4.000000      0.510638      0.048607      0.443916   \n",
              "75%        0.880536      6.000000      0.744681      0.074517      0.536150   \n",
              "max        1.000000      7.000000      1.000000      1.000000      0.980809   \n",
              "\n",
              "           vicprice     vicdemand      transfer         class  \n",
              "count  36249.000000  36249.000000  36249.000000  36249.000000  \n",
              "mean       0.003492      0.422827      0.500508      0.424536  \n",
              "std        0.011049      0.121357      0.153032      0.494279  \n",
              "min        0.000000      0.000000      0.000000      0.000000  \n",
              "25%        0.002277      0.371569      0.414912      0.000000  \n",
              "50%        0.003467      0.422915      0.414912      0.000000  \n",
              "75%        0.003467      0.469705      0.605702      1.000000  \n",
              "max        1.000000      1.000000      1.000000      1.000000  "
            ]
          },
          "metadata": {},
          "execution_count": 5
        }
      ],
      "source": [
        "train.describe()"
      ]
    },
    {
      "cell_type": "code",
      "source": [
        "test = pd.read_csv('testing_data.csv')\n",
        "test.shape"
      ],
      "metadata": {
        "colab": {
          "base_uri": "https://localhost:8080/"
        },
        "id": "p32H1V0ugoZC",
        "outputId": "aa57f48b-f93c-403d-d48f-da85075f17bc"
      },
      "id": "p32H1V0ugoZC",
      "execution_count": 6,
      "outputs": [
        {
          "output_type": "execute_result",
          "data": {
            "text/plain": [
              "(9063, 8)"
            ]
          },
          "metadata": {},
          "execution_count": 6
        }
      ]
    },
    {
      "cell_type": "code",
      "source": [
        "df = train.append(test)\n",
        "df.shape"
      ],
      "metadata": {
        "colab": {
          "base_uri": "https://localhost:8080/"
        },
        "id": "-TRMWBlcg5dd",
        "outputId": "878afed7-7194-401a-c134-b26d73e1bf5d"
      },
      "id": "-TRMWBlcg5dd",
      "execution_count": 7,
      "outputs": [
        {
          "output_type": "execute_result",
          "data": {
            "text/plain": [
              "(45312, 9)"
            ]
          },
          "metadata": {},
          "execution_count": 7
        }
      ]
    },
    {
      "cell_type": "code",
      "source": [
        "df.info()"
      ],
      "metadata": {
        "colab": {
          "base_uri": "https://localhost:8080/"
        },
        "id": "rFpVYxYSiWDp",
        "outputId": "9b747ae5-2cf5-4d0a-d1a6-fa3d778a4f89"
      },
      "id": "rFpVYxYSiWDp",
      "execution_count": 8,
      "outputs": [
        {
          "output_type": "stream",
          "name": "stdout",
          "text": [
            "<class 'pandas.core.frame.DataFrame'>\n",
            "Int64Index: 45312 entries, 0 to 9062\n",
            "Data columns (total 9 columns):\n",
            " #   Column     Non-Null Count  Dtype  \n",
            "---  ------     --------------  -----  \n",
            " 0   date       45312 non-null  float64\n",
            " 1   day        45312 non-null  int64  \n",
            " 2   period     45312 non-null  float64\n",
            " 3   nswprice   45312 non-null  float64\n",
            " 4   nswdemand  45312 non-null  float64\n",
            " 5   vicprice   45312 non-null  float64\n",
            " 6   vicdemand  45312 non-null  float64\n",
            " 7   transfer   45312 non-null  float64\n",
            " 8   class      36249 non-null  float64\n",
            "dtypes: float64(8), int64(1)\n",
            "memory usage: 3.5 MB\n"
          ]
        }
      ]
    },
    {
      "cell_type": "markdown",
      "id": "49b6d718",
      "metadata": {
        "id": "49b6d718"
      },
      "source": [
        "## Column name\tDescription\n",
        "**Date**\t  date between 7 May 1996 to 5 December 1998. Here normalized between 0 and 1\n",
        "\n",
        "**Day**\t     day of the week (1-7)\n",
        "\n",
        "**Period**\t   time of the measurement (1-48) in half hour intervals over 24 hours. Here normalized between 0 and 1\n",
        "\n",
        "**NSWprice**\t New South Wales electricity price, normalized between 0 and 1\n",
        "\n",
        "**NSWdemand**\t  New South Wales electricity demand, normalized between 0 and 1\n",
        "\n",
        "**VICprice**\t  Victoria electricity price, normalized between 0 and 1\n",
        "\n",
        "**VICdemand**\t  Victoria electricity demand, normalized between 0 and 1\n",
        "\n",
        "**transfer**\t  scheduled electricity transfer between both states, normalized between 0 and 1\n",
        "\n",
        "**class**\t      Target variable identifies the change of the price (UP = 1 or DOWN = 0) in New South Wales relative to a moving average of the last 24 hours. "
      ]
    },
    {
      "cell_type": "code",
      "source": [
        "df['date'].value_counts()"
      ],
      "metadata": {
        "colab": {
          "base_uri": "https://localhost:8080/"
        },
        "id": "kx7jJU31inCQ",
        "outputId": "b86fd72a-777f-40f3-babf-0beae78a9c87"
      },
      "id": "kx7jJU31inCQ",
      "execution_count": 9,
      "outputs": [
        {
          "output_type": "execute_result",
          "data": {
            "text/plain": [
              "0.442326    96\n",
              "0.893677    96\n",
              "0.473563    96\n",
              "0.880581    96\n",
              "0.867307    81\n",
              "            ..\n",
              "0.460511     4\n",
              "0.473961     4\n",
              "0.468873     3\n",
              "0.000885     3\n",
              "0.017964     3\n",
              "Name: date, Length: 1130, dtype: int64"
            ]
          },
          "metadata": {},
          "execution_count": 9
        }
      ]
    },
    {
      "cell_type": "code",
      "execution_count": 10,
      "id": "dc752102",
      "metadata": {
        "colab": {
          "base_uri": "https://localhost:8080/"
        },
        "id": "dc752102",
        "outputId": "772306dc-a20c-4ff4-bbc6-efe64a218d38"
      },
      "outputs": [
        {
          "output_type": "execute_result",
          "data": {
            "text/plain": [
              "6    6480\n",
              "2    6480\n",
              "3    6480\n",
              "5    6480\n",
              "7    6480\n",
              "4    6480\n",
              "1    6432\n",
              "Name: day, dtype: int64"
            ]
          },
          "metadata": {},
          "execution_count": 10
        }
      ],
      "source": [
        "df['day'].value_counts()"
      ]
    },
    {
      "cell_type": "code",
      "execution_count": 11,
      "id": "ef74aeb6",
      "metadata": {
        "colab": {
          "base_uri": "https://localhost:8080/",
          "height": 497
        },
        "id": "ef74aeb6",
        "outputId": "87b2484e-caec-4e79-edde-3e55640827c2"
      },
      "outputs": [
        {
          "output_type": "display_data",
          "data": {
            "image/png": "[encoded data removed]",
            "text/plain": [
              "<Figure size 720x576 with 1 Axes>"
            ]
          },
          "metadata": {
            "needs_background": "light"
          }
        }
      ],
      "source": [
        "plt.figure(figsize = (10,8))\n",
        "sns.countplot(x = df['day'],data = df)\n",
        "plt.show()"
      ]
    },
    {
      "cell_type": "code",
      "execution_count": 12,
      "id": "ab42e244",
      "metadata": {
        "colab": {
          "base_uri": "https://localhost:8080/"
        },
        "id": "ab42e244",
        "outputId": "3ba1199a-8cc8-45c7-ee95-0b2613680c9f"
      },
      "outputs": [
        {
          "output_type": "execute_result",
          "data": {
            "text/plain": [
              "0.0    20860\n",
              "1.0    15389\n",
              "Name: class, dtype: int64"
            ]
          },
          "metadata": {},
          "execution_count": 12
        }
      ],
      "source": [
        "df['class'].value_counts()\n",
        "#No skewness in our target variable"
      ]
    },
    {
      "cell_type": "code",
      "execution_count": 13,
      "id": "1138f743",
      "metadata": {
        "colab": {
          "base_uri": "https://localhost:8080/"
        },
        "id": "1138f743",
        "outputId": "95745a25-d281-4ff6-97f4-a56f9a736ef0"
      },
      "outputs": [
        {
          "output_type": "execute_result",
          "data": {
            "text/plain": [
              "0.0    57.546415\n",
              "1.0    42.453585\n",
              "Name: class, dtype: float64"
            ]
          },
          "metadata": {},
          "execution_count": 13
        }
      ],
      "source": [
        "df['class'].value_counts(normalize = True) * 100"
      ]
    },
    {
      "cell_type": "code",
      "execution_count": 14,
      "id": "afce3eb7",
      "metadata": {
        "colab": {
          "base_uri": "https://localhost:8080/",
          "height": 269
        },
        "id": "afce3eb7",
        "outputId": "e8282543-f2d0-450f-f38b-d60042e5cb02"
      },
      "outputs": [
        {
          "output_type": "execute_result",
          "data": {
            "text/html": [
              "<div>\n",
              "<style scoped>\n",
              "    .dataframe tbody tr th:only-of-type {\n",
              "        vertical-align: middle;\n",
              "    }\n",
              "\n",
              "    .dataframe tbody tr th {\n",
              "        vertical-align: top;\n",
              "    }\n",
              "\n",
              "    .dataframe thead th {\n",
              "        text-align: right;\n",
              "    }\n",
              "</style>\n",
              "<table border=\"1\" class=\"dataframe\">\n",
              "  <thead>\n",
              "    <tr style=\"text-align: right;\">\n",
              "      <th></th>\n",
              "      <th>0.0</th>\n",
              "      <th>1.0</th>\n",
              "    </tr>\n",
              "  </thead>\n",
              "  <tbody>\n",
              "    <tr>\n",
              "      <th>1</th>\n",
              "      <td>2695</td>\n",
              "      <td>2464</td>\n",
              "    </tr>\n",
              "    <tr>\n",
              "      <th>2</th>\n",
              "      <td>2831</td>\n",
              "      <td>2345</td>\n",
              "    </tr>\n",
              "    <tr>\n",
              "      <th>3</th>\n",
              "      <td>3005</td>\n",
              "      <td>2177</td>\n",
              "    </tr>\n",
              "    <tr>\n",
              "      <th>4</th>\n",
              "      <td>3043</td>\n",
              "      <td>2134</td>\n",
              "    </tr>\n",
              "    <tr>\n",
              "      <th>5</th>\n",
              "      <td>3099</td>\n",
              "      <td>2087</td>\n",
              "    </tr>\n",
              "    <tr>\n",
              "      <th>6</th>\n",
              "      <td>3137</td>\n",
              "      <td>2056</td>\n",
              "    </tr>\n",
              "    <tr>\n",
              "      <th>7</th>\n",
              "      <td>3050</td>\n",
              "      <td>2126</td>\n",
              "    </tr>\n",
              "  </tbody>\n",
              "</table>\n",
              "</div>"
            ],
            "text/plain": [
              "    0.0   1.0\n",
              "1  2695  2464\n",
              "2  2831  2345\n",
              "3  3005  2177\n",
              "4  3043  2134\n",
              "5  3099  2087\n",
              "6  3137  2056\n",
              "7  3050  2126"
            ]
          },
          "metadata": {},
          "execution_count": 14
        }
      ],
      "source": [
        "def plot_bar(feature):\n",
        "    one = df[df['day'] == 1][feature].value_counts()\n",
        "    two = df[df['day'] == 2][feature].value_counts()\n",
        "    three = df[df['day'] == 3][feature].value_counts()\n",
        "    four = df[df['day'] == 4][feature].value_counts()\n",
        "    five = df[df['day'] == 5][feature].value_counts()\n",
        "    six = df[df['day'] == 6][feature].value_counts()\n",
        "    seven = df[df['day'] == 7][feature].value_counts()\n",
        "    df_ = pd.DataFrame([one,two,three,four,five,six,seven])\n",
        "    df_.index = [1,2,3,4,5,6,7]\n",
        "    return df_\n",
        "    \n",
        "df_ = plot_bar('class')\n",
        "df_"
      ]
    },
    {
      "cell_type": "code",
      "execution_count": 15,
      "id": "1b490553",
      "metadata": {
        "colab": {
          "base_uri": "https://localhost:8080/",
          "height": 404
        },
        "id": "1b490553",
        "outputId": "57e0fd7a-b892-482b-bbad-5bc494f91df2"
      },
      "outputs": [
        {
          "output_type": "execute_result",
          "data": {
            "text/plain": [
              "Text(0, 0.5, 'Class')"
            ]
          },
          "metadata": {},
          "execution_count": 15
        },
        {
          "output_type": "display_data",
          "data": {
            "image/png": "[encoded data removed]",
            "text/plain": [
              "<Figure size 720x432 with 1 Axes>"
            ]
          },
          "metadata": {
            "needs_background": "light"
          }
        }
      ],
      "source": [
        "df_.plot(kind = 'bar',stacked = True,figsize = (10,6))\n",
        "plt.xlabel(\"Day of week\",fontsize = 13)\n",
        "plt.ylabel(\"Class\",fontsize = 13)"
      ]
    },
    {
      "cell_type": "code",
      "source": [
        "df.info()"
      ],
      "metadata": {
        "colab": {
          "base_uri": "https://localhost:8080/"
        },
        "id": "5WoGkWvIjkP2",
        "outputId": "c379c8f1-2aa2-4595-91d4-fbf0ad185143"
      },
      "id": "5WoGkWvIjkP2",
      "execution_count": 16,
      "outputs": [
        {
          "output_type": "stream",
          "name": "stdout",
          "text": [
            "<class 'pandas.core.frame.DataFrame'>\n",
            "Int64Index: 45312 entries, 0 to 9062\n",
            "Data columns (total 9 columns):\n",
            " #   Column     Non-Null Count  Dtype  \n",
            "---  ------     --------------  -----  \n",
            " 0   date       45312 non-null  float64\n",
            " 1   day        45312 non-null  int64  \n",
            " 2   period     45312 non-null  float64\n",
            " 3   nswprice   45312 non-null  float64\n",
            " 4   nswdemand  45312 non-null  float64\n",
            " 5   vicprice   45312 non-null  float64\n",
            " 6   vicdemand  45312 non-null  float64\n",
            " 7   transfer   45312 non-null  float64\n",
            " 8   class      36249 non-null  float64\n",
            "dtypes: float64(8), int64(1)\n",
            "memory usage: 4.5 MB\n"
          ]
        }
      ]
    },
    {
      "cell_type": "code",
      "source": [
        "train = df[df['class'].notnull()]\n",
        "test = df[df['class'].isnull()]"
      ],
      "metadata": {
        "id": "3jCXRNzsjkj4"
      },
      "id": "3jCXRNzsjkj4",
      "execution_count": 17,
      "outputs": []
    },
    {
      "cell_type": "code",
      "source": [
        "train.shape"
      ],
      "metadata": {
        "colab": {
          "base_uri": "https://localhost:8080/"
        },
        "id": "6m-jTjwWjko5",
        "outputId": "16096ba5-73e1-435d-cc24-977ee3efd6a8"
      },
      "id": "6m-jTjwWjko5",
      "execution_count": 18,
      "outputs": [
        {
          "output_type": "execute_result",
          "data": {
            "text/plain": [
              "(36249, 9)"
            ]
          },
          "metadata": {},
          "execution_count": 18
        }
      ]
    },
    {
      "cell_type": "code",
      "source": [
        "train.info()"
      ],
      "metadata": {
        "colab": {
          "base_uri": "https://localhost:8080/"
        },
        "id": "DkbMg6Cgl5la",
        "outputId": "d4b94cda-500e-47ec-9f19-0317f6c91f19"
      },
      "id": "DkbMg6Cgl5la",
      "execution_count": 19,
      "outputs": [
        {
          "output_type": "stream",
          "name": "stdout",
          "text": [
            "<class 'pandas.core.frame.DataFrame'>\n",
            "Int64Index: 36249 entries, 0 to 36248\n",
            "Data columns (total 9 columns):\n",
            " #   Column     Non-Null Count  Dtype  \n",
            "---  ------     --------------  -----  \n",
            " 0   date       36249 non-null  float64\n",
            " 1   day        36249 non-null  int64  \n",
            " 2   period     36249 non-null  float64\n",
            " 3   nswprice   36249 non-null  float64\n",
            " 4   nswdemand  36249 non-null  float64\n",
            " 5   vicprice   36249 non-null  float64\n",
            " 6   vicdemand  36249 non-null  float64\n",
            " 7   transfer   36249 non-null  float64\n",
            " 8   class      36249 non-null  float64\n",
            "dtypes: float64(8), int64(1)\n",
            "memory usage: 2.8 MB\n"
          ]
        }
      ]
    },
    {
      "cell_type": "code",
      "source": [
        "test.shape"
      ],
      "metadata": {
        "colab": {
          "base_uri": "https://localhost:8080/"
        },
        "id": "cKoA-bIdjkuA",
        "outputId": "2c132e6c-8708-4498-9f6b-6523feb82a36"
      },
      "id": "cKoA-bIdjkuA",
      "execution_count": 20,
      "outputs": [
        {
          "output_type": "execute_result",
          "data": {
            "text/plain": [
              "(9063, 9)"
            ]
          },
          "metadata": {},
          "execution_count": 20
        }
      ]
    },
    {
      "cell_type": "code",
      "source": [
        "test = test.drop(columns = 'class')\n",
        "test.info()"
      ],
      "metadata": {
        "colab": {
          "base_uri": "https://localhost:8080/"
        },
        "id": "VwFUbSbKjlIR",
        "outputId": "5c43e213-b891-47a3-ecfd-0bdd391f4447"
      },
      "id": "VwFUbSbKjlIR",
      "execution_count": 21,
      "outputs": [
        {
          "output_type": "stream",
          "name": "stdout",
          "text": [
            "<class 'pandas.core.frame.DataFrame'>\n",
            "Int64Index: 9063 entries, 0 to 9062\n",
            "Data columns (total 8 columns):\n",
            " #   Column     Non-Null Count  Dtype  \n",
            "---  ------     --------------  -----  \n",
            " 0   date       9063 non-null   float64\n",
            " 1   day        9063 non-null   int64  \n",
            " 2   period     9063 non-null   float64\n",
            " 3   nswprice   9063 non-null   float64\n",
            " 4   nswdemand  9063 non-null   float64\n",
            " 5   vicprice   9063 non-null   float64\n",
            " 6   vicdemand  9063 non-null   float64\n",
            " 7   transfer   9063 non-null   float64\n",
            "dtypes: float64(7), int64(1)\n",
            "memory usage: 637.2 KB\n"
          ]
        }
      ]
    },
    {
      "cell_type": "code",
      "execution_count": 22,
      "id": "07d428d8",
      "metadata": {
        "id": "07d428d8"
      },
      "outputs": [],
      "source": [
        "X = train.drop(columns = 'class')\n",
        "y = train['class']"
      ]
    },
    {
      "cell_type": "code",
      "execution_count": 23,
      "id": "c0180bbd",
      "metadata": {
        "id": "c0180bbd"
      },
      "outputs": [],
      "source": [
        "from sklearn.model_selection import train_test_split\n",
        "\n",
        "X_train,X_test,y_train,y_test = train_test_split(X,y,test_size = 0.3,stratify = y,random_state = 17)"
      ]
    },
    {
      "cell_type": "markdown",
      "id": "f39bdd6a",
      "metadata": {
        "id": "f39bdd6a"
      },
      "source": [
        "## Random Forest classifier"
      ]
    },
    {
      "cell_type": "code",
      "execution_count": 24,
      "id": "47aabf56",
      "metadata": {
        "colab": {
          "base_uri": "https://localhost:8080/"
        },
        "id": "47aabf56",
        "outputId": "063e4029-4301-485b-fd9f-a8a561497bb6"
      },
      "outputs": [
        {
          "output_type": "execute_result",
          "data": {
            "text/plain": [
              "0.8959080459770115"
            ]
          },
          "metadata": {},
          "execution_count": 24
        }
      ],
      "source": [
        "from sklearn.ensemble import RandomForestClassifier\n",
        "\n",
        "rfc = RandomForestClassifier()\n",
        "rfc.fit(X_train,y_train)\n",
        "rfc.score(X_test,y_test)"
      ]
    },
    {
      "cell_type": "code",
      "execution_count": 25,
      "id": "53fed438",
      "metadata": {
        "id": "53fed438"
      },
      "outputs": [],
      "source": [
        "y_pred = rfc.predict(X_test)\n",
        "y_pred_ = rfc.predict(X_train)"
      ]
    },
    {
      "cell_type": "code",
      "execution_count": 26,
      "id": "7302fedb",
      "metadata": {
        "colab": {
          "base_uri": "https://localhost:8080/"
        },
        "id": "7302fedb",
        "outputId": "4ee2aad4-8d22-4eb8-f13a-cab349ac3684"
      },
      "outputs": [
        {
          "output_type": "stream",
          "name": "stdout",
          "text": [
            "Training set Accuracy: 1.0\n",
            "Test set Accuracy: 0.8751654168504632\n"
          ]
        }
      ],
      "source": [
        "from sklearn.metrics import f1_score\n",
        "\n",
        "print(\"Training set Accuracy:\",f1_score(y_true = y_train,y_pred = y_pred_))\n",
        "print(\"Test set Accuracy:\",f1_score(y_true = y_test,y_pred = y_pred))"
      ]
    },
    {
      "cell_type": "code",
      "execution_count": 27,
      "id": "35541a11",
      "metadata": {
        "id": "35541a11"
      },
      "outputs": [],
      "source": [
        "#from boruta import BorutaPy\n",
        "\n",
        "#rfc = RandomForestClassifier()\n",
        "#selector = BorutaPy(estimator = rfc,n_estimators = 'auto',verbose = 2,random_state = 42)\n",
        "#selector.fit(np.array(X_train),np.array(y_train))"
      ]
    },
    {
      "cell_type": "code",
      "execution_count": 28,
      "id": "28786e20",
      "metadata": {
        "id": "28786e20"
      },
      "outputs": [],
      "source": [
        "#print(\"Selected Features:\",selector.support_)\n",
        "#print(\"Rankings\",selector.ranking_)\n",
        "#print(\"Significant_features:\",selector.n_features_)"
      ]
    },
    {
      "cell_type": "markdown",
      "id": "beedde27",
      "metadata": {
        "id": "beedde27"
      },
      "source": [
        "## Decision Tree Classifier"
      ]
    },
    {
      "cell_type": "code",
      "execution_count": 29,
      "id": "2832aca1",
      "metadata": {
        "colab": {
          "base_uri": "https://localhost:8080/"
        },
        "id": "2832aca1",
        "outputId": "5949168f-2831-4b5d-f77a-d977d3bb66d7"
      },
      "outputs": [
        {
          "output_type": "execute_result",
          "data": {
            "text/plain": [
              "0.8751264367816092"
            ]
          },
          "metadata": {},
          "execution_count": 29
        }
      ],
      "source": [
        "from sklearn.tree import DecisionTreeClassifier\n",
        "\n",
        "dtc = DecisionTreeClassifier()\n",
        "dtc.fit(X_train,y_train)\n",
        "dtc.score(X_test,y_test)"
      ]
    },
    {
      "cell_type": "code",
      "execution_count": 30,
      "id": "81b84b05",
      "metadata": {
        "id": "81b84b05"
      },
      "outputs": [],
      "source": [
        "y_pred_ = dtc.predict(X_train)\n",
        "y_pred = dtc.predict(X_test)"
      ]
    },
    {
      "cell_type": "code",
      "execution_count": 31,
      "id": "d8b393f7",
      "metadata": {
        "colab": {
          "base_uri": "https://localhost:8080/"
        },
        "id": "d8b393f7",
        "outputId": "6a4b0bf4-004e-40f2-ba78-601a7c6c2770"
      },
      "outputs": [
        {
          "output_type": "stream",
          "name": "stdout",
          "text": [
            "Training set Accuracy: 1.0\n",
            "Test set Accuracy: 0.8517143481109413\n"
          ]
        }
      ],
      "source": [
        "print(\"Training set Accuracy:\",f1_score(y_true = y_train,y_pred = y_pred_))\n",
        "print(\"Test set Accuracy:\",f1_score(y_true = y_test,y_pred = y_pred))"
      ]
    },
    {
      "cell_type": "markdown",
      "id": "efc97fd2",
      "metadata": {
        "id": "efc97fd2"
      },
      "source": [
        "## Extra Tree Classifier"
      ]
    },
    {
      "cell_type": "code",
      "execution_count": 32,
      "id": "9ac21407",
      "metadata": {
        "colab": {
          "base_uri": "https://localhost:8080/"
        },
        "id": "9ac21407",
        "outputId": "f97f0f7a-760f-4859-abca-4e1f5bbc6333"
      },
      "outputs": [
        {
          "output_type": "execute_result",
          "data": {
            "text/plain": [
              "0.791816091954023"
            ]
          },
          "metadata": {},
          "execution_count": 32
        }
      ],
      "source": [
        "from sklearn.tree import ExtraTreeClassifier\n",
        "\n",
        "Etc = ExtraTreeClassifier()\n",
        "Etc.fit(X_train,y_train)\n",
        "Etc.score(X_test,y_test)"
      ]
    },
    {
      "cell_type": "code",
      "execution_count": 33,
      "id": "0a1bc1dc",
      "metadata": {
        "id": "0a1bc1dc"
      },
      "outputs": [],
      "source": [
        "y_pred_ = Etc.predict(X_train)\n",
        "y_pred = Etc.predict(X_test)"
      ]
    },
    {
      "cell_type": "code",
      "execution_count": 34,
      "id": "625eb012",
      "metadata": {
        "colab": {
          "base_uri": "https://localhost:8080/"
        },
        "id": "625eb012",
        "outputId": "450ca190-6d9e-4caa-e635-976bd2c0f138"
      },
      "outputs": [
        {
          "output_type": "stream",
          "name": "stdout",
          "text": [
            "Training set Accuracy: 1.0\n",
            "Test set Accuracy: 0.7566114814018491\n"
          ]
        }
      ],
      "source": [
        "print(\"Training set Accuracy:\",f1_score(y_true = y_train,y_pred = y_pred_))\n",
        "print(\"Test set Accuracy:\",f1_score(y_true = y_test,y_pred = y_pred))"
      ]
    },
    {
      "cell_type": "markdown",
      "id": "a6b5cba7",
      "metadata": {
        "id": "a6b5cba7"
      },
      "source": [
        "## K Neighbors Classifier"
      ]
    },
    {
      "cell_type": "code",
      "execution_count": 35,
      "id": "1dbe4c91",
      "metadata": {
        "colab": {
          "base_uri": "https://localhost:8080/"
        },
        "id": "1dbe4c91",
        "outputId": "da8594a0-35cf-414f-d025-d8b3ad881c5a"
      },
      "outputs": [
        {
          "output_type": "execute_result",
          "data": {
            "text/plain": [
              "0.7885057471264367"
            ]
          },
          "metadata": {},
          "execution_count": 35
        }
      ],
      "source": [
        "from sklearn.neighbors import KNeighborsClassifier\n",
        "\n",
        "KNC = KNeighborsClassifier()\n",
        "KNC.fit(X_train,y_train)\n",
        "KNC.score(X_test,y_test)"
      ]
    },
    {
      "cell_type": "code",
      "execution_count": 36,
      "id": "0a1d4b4b",
      "metadata": {
        "id": "0a1d4b4b"
      },
      "outputs": [],
      "source": [
        "y_pred_ = KNC.predict(X_train)\n",
        "y_pred = KNC.predict(X_test)"
      ]
    },
    {
      "cell_type": "code",
      "execution_count": 37,
      "id": "52d72bf7",
      "metadata": {
        "colab": {
          "base_uri": "https://localhost:8080/"
        },
        "id": "52d72bf7",
        "outputId": "8e0eab46-1ede-4b49-86cb-438ad1c6e2db"
      },
      "outputs": [
        {
          "output_type": "stream",
          "name": "stdout",
          "text": [
            "Training set Accuracy: 0.8381448177946047\n",
            "Test set Accuracy: 0.7460247349823321\n"
          ]
        }
      ],
      "source": [
        "print(\"Training set Accuracy:\",f1_score(y_true = y_train,y_pred = y_pred_))\n",
        "print(\"Test set Accuracy:\",f1_score(y_true = y_test,y_pred = y_pred))"
      ]
    },
    {
      "cell_type": "markdown",
      "id": "858bf89f",
      "metadata": {
        "id": "858bf89f"
      },
      "source": [
        "## SVM"
      ]
    },
    {
      "cell_type": "code",
      "execution_count": 38,
      "id": "92dfbc66",
      "metadata": {
        "colab": {
          "base_uri": "https://localhost:8080/"
        },
        "id": "92dfbc66",
        "outputId": "98c0cb7a-3c08-4b38-92a5-ae45d601b483"
      },
      "outputs": [
        {
          "output_type": "execute_result",
          "data": {
            "text/plain": [
              "0.7263448275862069"
            ]
          },
          "metadata": {},
          "execution_count": 38
        }
      ],
      "source": [
        "from sklearn.svm import SVC\n",
        "\n",
        "svm = SVC()\n",
        "svm.fit(X_train,y_train)\n",
        "svm.score(X_test,y_test)"
      ]
    },
    {
      "cell_type": "code",
      "execution_count": 39,
      "id": "263a8022",
      "metadata": {
        "id": "263a8022"
      },
      "outputs": [],
      "source": [
        "y_pred_ = KNC.predict(X_train)\n",
        "y_pred = KNC.predict(X_test)"
      ]
    },
    {
      "cell_type": "code",
      "execution_count": 40,
      "id": "5de49b00",
      "metadata": {
        "colab": {
          "base_uri": "https://localhost:8080/"
        },
        "id": "5de49b00",
        "outputId": "6f57d244-360b-46d3-aced-ff6926625468"
      },
      "outputs": [
        {
          "output_type": "stream",
          "name": "stdout",
          "text": [
            "Training set Accuracy: 0.8381448177946047\n",
            "Test set Accuracy: 0.7460247349823321\n"
          ]
        }
      ],
      "source": [
        "print(\"Training set Accuracy:\",f1_score(y_true = y_train,y_pred = y_pred_))\n",
        "print(\"Test set Accuracy:\",f1_score(y_true = y_test,y_pred = y_pred))"
      ]
    },
    {
      "cell_type": "markdown",
      "id": "7af240db",
      "metadata": {
        "id": "7af240db"
      },
      "source": [
        "## HyperParameter Tuning"
      ]
    },
    {
      "cell_type": "code",
      "execution_count": 41,
      "id": "e3c5abc7",
      "metadata": {
        "id": "e3c5abc7"
      },
      "outputs": [],
      "source": [
        "\n",
        "param_grid = {'criterion':['gini','entropy'],\n",
        "              'n_estimators':[100,300,500,700,1000],\n",
        "              'min_samples_split':[2,3,4,5],\n",
        "              'min_samples_leaf':[1,2,3,4],\n",
        "              'max_depth':[None,2,3,5,7,10,12]\n",
        "    \n",
        "}"
      ]
    },
    {
      "cell_type": "code",
      "source": [
        "from sklearn.model_selection import GridSearchCV,RandomizedSearchCV"
      ],
      "metadata": {
        "id": "Sxl5nU-2y281"
      },
      "id": "Sxl5nU-2y281",
      "execution_count": 42,
      "outputs": []
    },
    {
      "cell_type": "code",
      "execution_count": 43,
      "id": "47d13c69",
      "metadata": {
        "id": "47d13c69"
      },
      "outputs": [],
      "source": [
        "#rfc = RandomForestClassifier()\n",
        "#grid = RandomizedSearchCV(cv = 5,estimator = rfc,param_distributions = param_grid,n_iter = 20,random_state = 17,n_jobs = -1)\n",
        "#grid.fit(X_train,y_train)"
      ]
    },
    {
      "cell_type": "code",
      "execution_count": 44,
      "id": "a5b1a3c1",
      "metadata": {
        "id": "a5b1a3c1"
      },
      "outputs": [],
      "source": [
        "#grid.best_params_"
      ]
    },
    {
      "cell_type": "code",
      "source": [
        "param_grid = {'criterion':['gini','entropy'],\n",
        "              'splitter':['best','random'],\n",
        "              'max_features':['auto','sqrt','log2',None],\n",
        "              'min_samples_split':[2,3,4,5],\n",
        "              'min_samples_leaf':[1,2,3,4],\n",
        "              'max_depth':[None,2,3,5,7,10,12]\n",
        "    \n",
        "}"
      ],
      "metadata": {
        "id": "4EqT3Dniqe0v"
      },
      "id": "4EqT3Dniqe0v",
      "execution_count": 45,
      "outputs": []
    },
    {
      "cell_type": "code",
      "source": [
        "dtc = DecisionTreeClassifier()\n",
        "grid = RandomizedSearchCV(cv = 5,estimator = dtc,n_iter = 1000,param_distributions=param_grid,random_state = 17,n_jobs = -1)\n",
        "grid.fit(X_train,y_train)"
      ],
      "metadata": {
        "colab": {
          "base_uri": "https://localhost:8080/"
        },
        "id": "TF3yuBa8xHgK",
        "outputId": "2d5609b2-5a15-4785-fb2e-f0a62f06a9c1"
      },
      "id": "TF3yuBa8xHgK",
      "execution_count": 46,
      "outputs": [
        {
          "output_type": "execute_result",
          "data": {
            "text/plain": [
              "RandomizedSearchCV(cv=5, estimator=DecisionTreeClassifier(), n_iter=1000,\n",
              "                   n_jobs=-1,\n",
              "                   param_distributions={'criterion': ['gini', 'entropy'],\n",
              "                                        'max_depth': [None, 2, 3, 5, 7, 10, 12],\n",
              "                                        'max_features': ['auto', 'sqrt', 'log2',\n",
              "                                                         None],\n",
              "                                        'min_samples_leaf': [1, 2, 3, 4],\n",
              "                                        'min_samples_split': [2, 3, 4, 5],\n",
              "                                        'splitter': ['best', 'random']},\n",
              "                   random_state=17)"
            ]
          },
          "metadata": {},
          "execution_count": 46
        }
      ]
    },
    {
      "cell_type": "code",
      "source": [
        "grid.best_params_"
      ],
      "metadata": {
        "colab": {
          "base_uri": "https://localhost:8080/"
        },
        "id": "8Vf3HRUxxHqS",
        "outputId": "6575aa80-89ac-4432-bba0-5087c561b3cf"
      },
      "id": "8Vf3HRUxxHqS",
      "execution_count": 47,
      "outputs": [
        {
          "output_type": "execute_result",
          "data": {
            "text/plain": [
              "{'criterion': 'entropy',\n",
              " 'max_depth': None,\n",
              " 'max_features': None,\n",
              " 'min_samples_leaf': 1,\n",
              " 'min_samples_split': 2,\n",
              " 'splitter': 'best'}"
            ]
          },
          "metadata": {},
          "execution_count": 47
        }
      ]
    },
    {
      "cell_type": "code",
      "source": [
        "y_pred = grid.predict(X_test)\n",
        "y_pred_ = grid.predict(X_train)"
      ],
      "metadata": {
        "id": "ozZyGxPByVKK"
      },
      "id": "ozZyGxPByVKK",
      "execution_count": 48,
      "outputs": []
    },
    {
      "cell_type": "code",
      "source": [
        "print(\"Training set Accuracy:\",f1_score(y_true = y_train,y_pred = y_pred_))\n",
        "print(\"Test set Accuracy:\",f1_score(y_true = y_test,y_pred = y_pred))"
      ],
      "metadata": {
        "colab": {
          "base_uri": "https://localhost:8080/"
        },
        "id": "vm6gCfwwzr2z",
        "outputId": "7f45017f-0ea7-4219-f171-13e5556add53"
      },
      "id": "vm6gCfwwzr2z",
      "execution_count": 49,
      "outputs": [
        {
          "output_type": "stream",
          "name": "stdout",
          "text": [
            "Training set Accuracy: 1.0\n",
            "Test set Accuracy: 0.861631812764113\n"
          ]
        }
      ]
    },
    {
      "cell_type": "code",
      "source": [
        "rfc = RandomForestClassifier\n",
        "gridsearch = GridSearchCV(estimator = dtc,param_grid = param_grid,cv = 5,n_jobs = -1)\n",
        "gridsearch.fit(X_train,y_train)"
      ],
      "metadata": {
        "colab": {
          "base_uri": "https://localhost:8080/"
        },
        "id": "rAFqarH4zz4c",
        "outputId": "f9a38b39-d8cc-4f11-b8df-2e576a483f18"
      },
      "id": "rAFqarH4zz4c",
      "execution_count": 50,
      "outputs": [
        {
          "output_type": "execute_result",
          "data": {
            "text/plain": [
              "GridSearchCV(cv=5, estimator=DecisionTreeClassifier(), n_jobs=-1,\n",
              "             param_grid={'criterion': ['gini', 'entropy'],\n",
              "                         'max_depth': [None, 2, 3, 5, 7, 10, 12],\n",
              "                         'max_features': ['auto', 'sqrt', 'log2', None],\n",
              "                         'min_samples_leaf': [1, 2, 3, 4],\n",
              "                         'min_samples_split': [2, 3, 4, 5],\n",
              "                         'splitter': ['best', 'random']})"
            ]
          },
          "metadata": {},
          "execution_count": 50
        }
      ]
    },
    {
      "cell_type": "code",
      "source": [
        "gridsearch.best_params_"
      ],
      "metadata": {
        "id": "GESvpEtE5Cek",
        "outputId": "633892d6-2347-4747-cdd9-35fbc89a8d02",
        "colab": {
          "base_uri": "https://localhost:8080/"
        }
      },
      "id": "GESvpEtE5Cek",
      "execution_count": 53,
      "outputs": [
        {
          "output_type": "execute_result",
          "data": {
            "text/plain": [
              "{'criterion': 'entropy',\n",
              " 'max_depth': None,\n",
              " 'max_features': None,\n",
              " 'min_samples_leaf': 1,\n",
              " 'min_samples_split': 2,\n",
              " 'splitter': 'best'}"
            ]
          },
          "metadata": {},
          "execution_count": 53
        }
      ]
    },
    {
      "cell_type": "code",
      "source": [
        "y_pred = gridsearch.predict(X_test)\n",
        "y_pred_ = gridsearch.predict(X_train)"
      ],
      "metadata": {
        "id": "yYrf0-_-10BC"
      },
      "id": "yYrf0-_-10BC",
      "execution_count": 51,
      "outputs": []
    },
    {
      "cell_type": "code",
      "source": [
        "print(\"Training set Accuracy:\",f1_score(y_true = y_train,y_pred = y_pred_))\n",
        "print(\"Test set Accuracy:\",f1_score(y_true = y_test,y_pred = y_pred))"
      ],
      "metadata": {
        "colab": {
          "base_uri": "https://localhost:8080/"
        },
        "id": "yTkF8qp52Fyh",
        "outputId": "f5113007-3496-4f74-abce-d69d4be5aa61"
      },
      "id": "yTkF8qp52Fyh",
      "execution_count": 52,
      "outputs": [
        {
          "output_type": "stream",
          "name": "stdout",
          "text": [
            "Training set Accuracy: 1.0\n",
            "Test set Accuracy: 0.8634989200863932\n"
          ]
        }
      ]
    }
  ],
  "metadata": {
    "kernelspec": {
      "display_name": "Python 3",
      "language": "python",
      "name": "python3"
    },
    "language_info": {
      "codemirror_mode": {
        "name": "ipython",
        "version": 3
      },
      "file_extension": ".py",
      "mimetype": "text/x-python",
      "name": "python",
      "nbconvert_exporter": "python",
      "pygments_lexer": "ipython3",
      "version": "3.8.8"
    },
    "colab": {
      "name": "Second Challenge DPHI Electricity Prices in New South Wales.ipynb",
      "provenance": [],
      "include_colab_link": true
    },
    "accelerator": "GPU"
  },
  "nbformat": 4,
  "nbformat_minor": 5
}